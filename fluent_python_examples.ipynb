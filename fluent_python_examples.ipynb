{
 "cells": [
  {
   "cell_type": "markdown",
   "id": "87557971",
   "metadata": {},
   "source": [
    "# Fluent Python, 2nd Edition Luciano Ramalho \n",
    "## Core Concepts and Some Examples"
   ]
  },
  {
   "cell_type": "markdown",
   "id": "a7c6ec5a",
   "metadata": {},
   "source": [
    "## Chapter 2. An Array of Sequences"
   ]
  },
  {
   "cell_type": "markdown",
   "id": "0049cea3",
   "metadata": {},
   "source": [
    "### Container sequences\n",
    "Can hold items of different types, including nested containers. Some examples: `list`, `tuple`, and `collections.deque`. They hold references to the objects it contains.\n",
    "\n",
    "### Flat sequences\n",
    "Hold items of one simple type. Some examples: `str`, `bytes`, and `array.array`. They store the value of its contents in its own memory space.\n",
    "\n",
    "### Mutable sequences\n",
    "For example, `list`, `bytearray`, `array.array`, and `collections.deque`.\n",
    "\n",
    "### Immutable sequences\n",
    "For example, `tuple`, `str`, and `bytes`."
   ]
  },
  {
   "cell_type": "markdown",
   "id": "6287b85d",
   "metadata": {},
   "source": [
    "### List Comprenhension\n",
    "This is one way to build lists. If the list comprehension spans more than two lines, it is probably best to break it apart or rewrite it as a plain old for loop. "
   ]
  },
  {
   "cell_type": "code",
   "execution_count": 1,
   "id": "f6c7c598",
   "metadata": {},
   "outputs": [
    {
     "data": {
      "text/plain": [
       "[36, 162, 163, 165, 8364, 164]"
      ]
     },
     "execution_count": 1,
     "metadata": {},
     "output_type": "execute_result"
    }
   ],
   "source": [
    "symbols = '$¢£¥€¤'\n",
    "codes = [ord(symbol) for symbol in symbols]\n",
    "codes"
   ]
  },
  {
   "cell_type": "markdown",
   "id": "700e2925",
   "metadata": {},
   "source": [
    "**Example:** Cartesian product using a list comphension"
   ]
  },
  {
   "cell_type": "code",
   "execution_count": 4,
   "id": "ff85813e",
   "metadata": {},
   "outputs": [
    {
     "data": {
      "text/plain": [
       "[('black', 'S'),\n",
       " ('black', 'M'),\n",
       " ('black', 'L'),\n",
       " ('white', 'S'),\n",
       " ('white', 'M'),\n",
       " ('white', 'L')]"
      ]
     },
     "execution_count": 4,
     "metadata": {},
     "output_type": "execute_result"
    }
   ],
   "source": [
    "colors = ['black', 'white']\n",
    "sizes = ['S', 'M', 'L']\n",
    "tshirts = [(color, size) for color in colors for size in sizes]\n",
    "tshirts"
   ]
  },
  {
   "cell_type": "markdown",
   "id": "38c0bc9e",
   "metadata": {},
   "source": [
    "### Generator Expressions\n",
    "Saves memory because it yields items one by one using the iterator protocol instead of building a whole list just to feed another constructor."
   ]
  },
  {
   "cell_type": "code",
   "execution_count": 5,
   "id": "ebfa1ad5",
   "metadata": {},
   "outputs": [
    {
     "data": {
      "text/plain": [
       "(36, 162, 163, 165, 8364, 164)"
      ]
     },
     "execution_count": 5,
     "metadata": {},
     "output_type": "execute_result"
    }
   ],
   "source": [
    "symbols = '$¢£¥€¤'\n",
    "tuple(ord(symbol) for symbol in symbols)"
   ]
  },
  {
   "cell_type": "code",
   "execution_count": null,
   "id": "5d0378ce",
   "metadata": {},
   "outputs": [],
   "source": []
  }
 ],
 "metadata": {
  "kernelspec": {
   "display_name": "Python 3 (ipykernel)",
   "language": "python",
   "name": "python3"
  },
  "language_info": {
   "codemirror_mode": {
    "name": "ipython",
    "version": 3
   },
   "file_extension": ".py",
   "mimetype": "text/x-python",
   "name": "python",
   "nbconvert_exporter": "python",
   "pygments_lexer": "ipython3",
   "version": "3.10.8"
  }
 },
 "nbformat": 4,
 "nbformat_minor": 5
}
