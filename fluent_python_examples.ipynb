{
 "cells": [
  {
   "cell_type": "markdown",
   "id": "87557971",
   "metadata": {},
   "source": [
    "# Fluent Python, 2nd Edition Luciano Ramalho \n",
    "## Core Concepts and Some Examples"
   ]
  },
  {
   "cell_type": "markdown",
   "id": "a7c6ec5a",
   "metadata": {},
   "source": [
    "## Chapter 2. An Array of Sequences"
   ]
  },
  {
   "cell_type": "markdown",
   "id": "0049cea3",
   "metadata": {},
   "source": [
    "### Container sequences\n",
    "Can hold items of different types, including nested containers. Some examples: `list`, `tuple`, and `collections.deque`. They hold references to the objects it contains.\n",
    "\n",
    "### Flat sequences\n",
    "Hold items of one simple type. Some examples: `str`, `bytes`, and `array.array`. They store the value of its contents in its own memory space.\n",
    "\n",
    "### Mutable sequences\n",
    "For example, `list`, `bytearray`, `array.array`, and `collections.deque`.\n",
    "\n",
    "### Immutable sequences\n",
    "For example, `tuple`, `str`, and `bytes`."
   ]
  },
  {
   "cell_type": "markdown",
   "id": "6287b85d",
   "metadata": {},
   "source": [
    "### List Comprenhension\n",
    "This is one way to build lists. If the list comprehension spans more than two lines, it is probably best to break it apart or rewrite it as a plain old for loop. "
   ]
  },
  {
   "cell_type": "code",
   "execution_count": 1,
   "id": "f6c7c598",
   "metadata": {},
   "outputs": [
    {
     "data": {
      "text/plain": [
       "[36, 162, 163, 165, 8364, 164]"
      ]
     },
     "execution_count": 1,
     "metadata": {},
     "output_type": "execute_result"
    }
   ],
   "source": [
    "symbols = '$¢£¥€¤'\n",
    "codes = [ord(symbol) for symbol in symbols]\n",
    "codes"
   ]
  },
  {
   "cell_type": "markdown",
   "id": "700e2925",
   "metadata": {},
   "source": [
    "**Example:** Cartesian product using a list comphension"
   ]
  },
  {
   "cell_type": "code",
   "execution_count": 4,
   "id": "ff85813e",
   "metadata": {},
   "outputs": [
    {
     "data": {
      "text/plain": [
       "[('black', 'S'),\n",
       " ('black', 'M'),\n",
       " ('black', 'L'),\n",
       " ('white', 'S'),\n",
       " ('white', 'M'),\n",
       " ('white', 'L')]"
      ]
     },
     "execution_count": 4,
     "metadata": {},
     "output_type": "execute_result"
    }
   ],
   "source": [
    "colors = ['black', 'white']\n",
    "sizes = ['S', 'M', 'L']\n",
    "tshirts = [(color, size) for color in colors for size in sizes]\n",
    "tshirts"
   ]
  },
  {
   "cell_type": "markdown",
   "id": "38c0bc9e",
   "metadata": {},
   "source": [
    "### Generator Expressions\n",
    "Saves memory because it yields items one by one using the iterator protocol instead of building a whole list just to feed another constructor."
   ]
  },
  {
   "cell_type": "code",
   "execution_count": 5,
   "id": "ebfa1ad5",
   "metadata": {},
   "outputs": [
    {
     "data": {
      "text/plain": [
       "(36, 162, 163, 165, 8364, 164)"
      ]
     },
     "execution_count": 5,
     "metadata": {},
     "output_type": "execute_result"
    }
   ],
   "source": [
    "symbols = '$¢£¥€¤'\n",
    "tuple(ord(symbol) for symbol in symbols)"
   ]
  },
  {
   "cell_type": "markdown",
   "id": "fe1dc28d",
   "metadata": {},
   "source": [
    "### Slicing\n",
    "`seq[start:stop:step]`\n",
    "\n",
    "Mutable sequences can be grafted, excised, and otherwise modified in place using slice notation on the lefthand side of an assignment statement or as the target of a del statement."
   ]
  },
  {
   "cell_type": "code",
   "execution_count": 1,
   "id": "ef6a35d5",
   "metadata": {},
   "outputs": [
    {
     "data": {
      "text/plain": [
       "[0, 1, 2, 3, 4, 5, 6, 7, 8, 9]"
      ]
     },
     "execution_count": 1,
     "metadata": {},
     "output_type": "execute_result"
    }
   ],
   "source": [
    "l = list(range(10))\n",
    "l"
   ]
  },
  {
   "cell_type": "code",
   "execution_count": 2,
   "id": "33fc6680",
   "metadata": {},
   "outputs": [],
   "source": [
    "l[2:5] = [20, 30]"
   ]
  },
  {
   "cell_type": "code",
   "execution_count": 3,
   "id": "a9a244c3",
   "metadata": {},
   "outputs": [
    {
     "data": {
      "text/plain": [
       "[0, 1, 20, 30, 5, 6, 7, 8, 9]"
      ]
     },
     "execution_count": 3,
     "metadata": {},
     "output_type": "execute_result"
    }
   ],
   "source": [
    "l"
   ]
  },
  {
   "cell_type": "code",
   "execution_count": 4,
   "id": "0576371a",
   "metadata": {},
   "outputs": [],
   "source": [
    "del l[5:7]"
   ]
  },
  {
   "cell_type": "code",
   "execution_count": 5,
   "id": "a25136d1",
   "metadata": {},
   "outputs": [
    {
     "data": {
      "text/plain": [
       "[0, 1, 20, 30, 5, 8, 9]"
      ]
     },
     "execution_count": 5,
     "metadata": {},
     "output_type": "execute_result"
    }
   ],
   "source": [
    "l"
   ]
  },
  {
   "cell_type": "code",
   "execution_count": 6,
   "id": "de028e91",
   "metadata": {},
   "outputs": [],
   "source": [
    "l[3::2] = [11, 22]"
   ]
  },
  {
   "cell_type": "code",
   "execution_count": 7,
   "id": "741167e0",
   "metadata": {},
   "outputs": [
    {
     "data": {
      "text/plain": [
       "[0, 1, 20, 11, 5, 22, 9]"
      ]
     },
     "execution_count": 7,
     "metadata": {},
     "output_type": "execute_result"
    }
   ],
   "source": [
    "l"
   ]
  },
  {
   "cell_type": "markdown",
   "id": "a4315564",
   "metadata": {},
   "source": [
    "### list.sort Versus the sorted Built-In\n",
    "The `list.sort method` sorts a list in place—that is, without making a copy. In contrast, the built-in function sorted creates a new list and returns it."
   ]
  },
  {
   "cell_type": "code",
   "execution_count": 8,
   "id": "3f7004cf",
   "metadata": {},
   "outputs": [],
   "source": [
    "fruits = ['grape', 'raspberry', 'apple', 'banana']"
   ]
  },
  {
   "cell_type": "code",
   "execution_count": 9,
   "id": "d53a7ab6",
   "metadata": {},
   "outputs": [
    {
     "data": {
      "text/plain": [
       "['apple', 'banana', 'grape', 'raspberry']"
      ]
     },
     "execution_count": 9,
     "metadata": {},
     "output_type": "execute_result"
    }
   ],
   "source": [
    "sorted(fruits)"
   ]
  },
  {
   "cell_type": "code",
   "execution_count": 10,
   "id": "88f2b74a",
   "metadata": {},
   "outputs": [
    {
     "data": {
      "text/plain": [
       "['grape', 'raspberry', 'apple', 'banana']"
      ]
     },
     "execution_count": 10,
     "metadata": {},
     "output_type": "execute_result"
    }
   ],
   "source": [
    "fruits"
   ]
  },
  {
   "cell_type": "code",
   "execution_count": 11,
   "id": "78d0aad9",
   "metadata": {},
   "outputs": [
    {
     "data": {
      "text/plain": [
       "['raspberry', 'grape', 'banana', 'apple']"
      ]
     },
     "execution_count": 11,
     "metadata": {},
     "output_type": "execute_result"
    }
   ],
   "source": [
    "sorted(fruits, reverse=True)"
   ]
  },
  {
   "cell_type": "code",
   "execution_count": 12,
   "id": "51ac55a4",
   "metadata": {},
   "outputs": [
    {
     "data": {
      "text/plain": [
       "['grape', 'apple', 'banana', 'raspberry']"
      ]
     },
     "execution_count": 12,
     "metadata": {},
     "output_type": "execute_result"
    }
   ],
   "source": [
    "sorted(fruits, key=len)"
   ]
  },
  {
   "cell_type": "code",
   "execution_count": 14,
   "id": "7b061d17",
   "metadata": {},
   "outputs": [],
   "source": [
    "fruits.sort()"
   ]
  },
  {
   "cell_type": "code",
   "execution_count": 15,
   "id": "c6f53419",
   "metadata": {},
   "outputs": [
    {
     "data": {
      "text/plain": [
       "['apple', 'banana', 'grape', 'raspberry']"
      ]
     },
     "execution_count": 15,
     "metadata": {},
     "output_type": "execute_result"
    }
   ],
   "source": [
    "fruits"
   ]
  },
  {
   "cell_type": "markdown",
   "id": "1219d4be",
   "metadata": {},
   "source": [
    "### When a List Is Not the Answer\n",
    "- When you have millions of floating-point values you should use an `array`.\n",
    "- If you are constantly adding and removing items from opposite ends of a list you should use a `deque`(double-ended queue.\n",
    "- If your code frequently checks whether an item is present in a collection, consider using a `set`, specially if it holds a large number if items.\n"
   ]
  },
  {
   "cell_type": "markdown",
   "id": "5ef4d3bd",
   "metadata": {},
   "source": [
    "## Chapter 3. Dictionaries and Sets\n",
    "Python dicts are highly optimized—and continue to get improvements. Hash tables are the engines behind Python’s high-performance dicts."
   ]
  },
  {
   "cell_type": "markdown",
   "id": "ebaa5bf4",
   "metadata": {},
   "source": [
    "### Dict comprenhension\n"
   ]
  },
  {
   "cell_type": "code",
   "execution_count": 2,
   "id": "2f290be1",
   "metadata": {},
   "outputs": [
    {
     "data": {
      "text/plain": [
       "{'Bangladesh': 880,\n",
       " 'Brazil': 55,\n",
       " 'China': 86,\n",
       " 'India': 91,\n",
       " 'Indonesia': 62,\n",
       " 'Japan': 81,\n",
       " 'Nigeria': 234,\n",
       " 'Pakistan': 92,\n",
       " 'Russia': 7,\n",
       " 'United States': 1}"
      ]
     },
     "execution_count": 2,
     "metadata": {},
     "output_type": "execute_result"
    }
   ],
   "source": [
    "dial_codes = [                                                  \n",
    "     (880, 'Bangladesh'),\n",
    "     (55,  'Brazil'),\n",
    "     (86,  'China'),\n",
    "     (91,  'India'),\n",
    "     (62,  'Indonesia'),\n",
    "     (81,  'Japan'),\n",
    "     (234, 'Nigeria'),\n",
    "     (92,  'Pakistan'),\n",
    "     (7,   'Russia'),\n",
    "     (1,   'United States'),\n",
    " ]\n",
    "country_dial = {country: code for code, country in dial_codes}\n",
    "\n",
    "country_dial"
   ]
  },
  {
   "cell_type": "markdown",
   "id": "30463558",
   "metadata": {},
   "source": [
    "### Merging Mappings with |\n",
    "Python 3.9 supports using | and |= to merge mappings. The | operator creates a new mapping:"
   ]
  },
  {
   "cell_type": "code",
   "execution_count": 3,
   "id": "784f545f",
   "metadata": {},
   "outputs": [
    {
     "data": {
      "text/plain": [
       "{'a': 2, 'b': 4, 'c': 6}"
      ]
     },
     "execution_count": 3,
     "metadata": {},
     "output_type": "execute_result"
    }
   ],
   "source": [
    "d1 = {'a': 1, 'b': 3}\n",
    "d2 = {'a': 2, 'b': 4, 'c': 6}\n",
    "d1 | d2"
   ]
  },
  {
   "cell_type": "markdown",
   "id": "653e92df",
   "metadata": {},
   "source": [
    "### Automatic Handling of Missing Keys"
   ]
  },
  {
   "cell_type": "markdown",
   "id": "f7dd4a52",
   "metadata": {},
   "source": [
    "You can use `setdefault` to be able to fetch and update an item.\n",
    "\n",
    "`d.setdefault(k, [default])`\n",
    "\n",
    "If `k in d`, return `d[k]`; else set `d[k] = default` and return it"
   ]
  },
  {
   "cell_type": "markdown",
   "id": "4ff88491",
   "metadata": {},
   "source": [
    "In other words, the end result of this line…\n",
    "```\n",
    "my_dict.setdefault(key, []).append(new_value)\n",
    "```\n",
    "…is the same as running…\n",
    "```\n",
    "if key not in my_dict:\n",
    "    my_dict[key] = []\n",
    "my_dict[key].append(new_value)\n",
    "```\n"
   ]
  },
  {
   "cell_type": "markdown",
   "id": "45276c2d",
   "metadata": {},
   "source": [
    "You can use `collections.defaultdict` to instantiate a key when it is called and it doesn't exist."
   ]
  },
  {
   "cell_type": "code",
   "execution_count": 4,
   "id": "e7e53e90",
   "metadata": {},
   "outputs": [
    {
     "data": {
      "text/plain": [
       "defaultdict(str, {})"
      ]
     },
     "execution_count": 4,
     "metadata": {},
     "output_type": "execute_result"
    }
   ],
   "source": [
    "import collections\n",
    "\n",
    "index = collections.defaultdict(str)\n",
    "index\n"
   ]
  },
  {
   "cell_type": "code",
   "execution_count": 5,
   "id": "e72f2449",
   "metadata": {},
   "outputs": [
    {
     "data": {
      "text/plain": [
       "defaultdict(str, {'test_key': 'test_value'})"
      ]
     },
     "execution_count": 5,
     "metadata": {},
     "output_type": "execute_result"
    }
   ],
   "source": [
    "index['test_key'] = 'test_value'\n",
    "index"
   ]
  },
  {
   "cell_type": "markdown",
   "id": "cd2c62d9",
   "metadata": {},
   "source": [
    "In an usual case the previous line will raise a `KeyError`, but as we defined the defaultdict it is able to initialize the missing key"
   ]
  },
  {
   "cell_type": "markdown",
   "id": "c05d43c9",
   "metadata": {},
   "source": [
    "### Dictionary Views"
   ]
  },
  {
   "cell_type": "markdown",
   "id": "b59f8267",
   "metadata": {},
   "source": [
    "The dict instance methods `.keys()`, `.values()`, and `.items()` return instances of classes called `dict_keys`, `dict_values`, and `dict_items`, respectively. These dictionary views are read-only projections of the internal data structures used in the dict implementation. They avoid the memory overhead of the equivalent Python 2 methods that returned lists duplicating data already in the target dict, and they also replace the old methods that returned iterators.\n",
    "\n"
   ]
  },
  {
   "cell_type": "markdown",
   "id": "faf3d26f",
   "metadata": {},
   "source": [
    "### Set Theory"
   ]
  },
  {
   "cell_type": "markdown",
   "id": "0a1a1eba",
   "metadata": {},
   "source": [
    "A set is a collection of unique objects. The set types implement many set operations as infix operators, so, given two sets a and b, `a | b` returns their union, `a & b` computes the intersection, `a - b` the difference, and `a ^ b` the symmetric difference. "
   ]
  },
  {
   "cell_type": "code",
   "execution_count": 6,
   "id": "17c72469",
   "metadata": {},
   "outputs": [],
   "source": [
    "l = ['spam', 'spam', 'eggs', 'spam', 'bacon', 'eggs']"
   ]
  },
  {
   "cell_type": "code",
   "execution_count": 7,
   "id": "865991aa",
   "metadata": {},
   "outputs": [
    {
     "data": {
      "text/plain": [
       "{'bacon', 'eggs', 'spam'}"
      ]
     },
     "execution_count": 7,
     "metadata": {},
     "output_type": "execute_result"
    }
   ],
   "source": [
    "set(l)"
   ]
  },
  {
   "cell_type": "markdown",
   "id": "515a44a9",
   "metadata": {},
   "source": [
    "Literal set syntax like `{1, 2, 3}` is both faster and more readable than calling the constructor (e.g., `set([1, 2, 3])`). "
   ]
  },
  {
   "cell_type": "code",
   "execution_count": 8,
   "id": "b3e3e856",
   "metadata": {},
   "outputs": [],
   "source": [
    "s = {1, 2, 3}"
   ]
  },
  {
   "cell_type": "code",
   "execution_count": 9,
   "id": "0f83fee7",
   "metadata": {},
   "outputs": [
    {
     "data": {
      "text/plain": [
       "set"
      ]
     },
     "execution_count": 9,
     "metadata": {},
     "output_type": "execute_result"
    }
   ],
   "source": [
    "type(s)"
   ]
  },
  {
   "cell_type": "markdown",
   "id": "e728d113",
   "metadata": {},
   "source": [
    "## Chapter 4. Unicode Text Versus Bytes\n",
    "Converting from code points to bytes is encoding; converting from bytes to code points is decoding\n"
   ]
  },
  {
   "cell_type": "code",
   "execution_count": 2,
   "id": "cde05242",
   "metadata": {},
   "outputs": [
    {
     "data": {
      "text/plain": [
       "4"
      ]
     },
     "execution_count": 2,
     "metadata": {},
     "output_type": "execute_result"
    }
   ],
   "source": [
    "s = 'café'\n",
    "len(s)"
   ]
  },
  {
   "cell_type": "code",
   "execution_count": 4,
   "id": "ffe93ce0",
   "metadata": {},
   "outputs": [
    {
     "data": {
      "text/plain": [
       "b'caf\\xc3\\xa9'"
      ]
     },
     "execution_count": 4,
     "metadata": {},
     "output_type": "execute_result"
    }
   ],
   "source": [
    "b = s.encode('utf8')\n",
    "b"
   ]
  },
  {
   "cell_type": "code",
   "execution_count": 6,
   "id": "8a39410e",
   "metadata": {},
   "outputs": [
    {
     "data": {
      "text/plain": [
       "5"
      ]
     },
     "execution_count": 6,
     "metadata": {},
     "output_type": "execute_result"
    }
   ],
   "source": [
    "len(b)"
   ]
  },
  {
   "cell_type": "code",
   "execution_count": 7,
   "id": "626efcad",
   "metadata": {},
   "outputs": [
    {
     "data": {
      "text/plain": [
       "'café'"
      ]
     },
     "execution_count": 7,
     "metadata": {},
     "output_type": "execute_result"
    }
   ],
   "source": [
    "b.decode('utf8')"
   ]
  },
  {
   "cell_type": "markdown",
   "id": "98acfe10",
   "metadata": {},
   "source": [
    "The new binary sequence types are unlike the Python 2 `str` in many regards. The first thing to know is that there are two basic built-in types for binary sequences: the immutable `bytes` type introduced in Python 3 and the mutable `bytearray`, added way back in Python 2.6"
   ]
  },
  {
   "cell_type": "markdown",
   "id": "a9234a88",
   "metadata": {},
   "source": [
    "### How to Discover the Encoding of a Byte Sequence\n",
    "How do you find the encoding of a byte sequence? Short answer: you can’t. You must be told.\n",
    "Considering that human languages also have their rules and restrictions, once you assume that a stream of bytes is human plain text, it may be possible to sniff out its encoding using heuristics and statistics."
   ]
  },
  {
   "cell_type": "markdown",
   "id": "74c4fbc6",
   "metadata": {},
   "source": [
    "### Handling Text Files\n",
    "On output, the str are encoded to bytes as late as possible. Most web frameworks work like that, and we rarely touch bytes when using them. In Django, for example, your views should output Unicode str; Django itself takes care of encoding the response to bytes, using UTF-8 by default.\n"
   ]
  },
  {
   "cell_type": "markdown",
   "id": "70ccadd3",
   "metadata": {},
   "source": [
    "## Chapter 5. Data Class Builders\n",
    "\n",
    "This chapter covers three different class builders that you may use as shortcuts to write data classes:\n",
    "- `collections.namedtuple`\n",
    "- `typing.NamedTuple`\n",
    "- `@dataclasses.dataclass`"
   ]
  },
  {
   "cell_type": "markdown",
   "id": "e220bf02",
   "metadata": {},
   "source": [
    "Below you are going to see how we usually define a class with the `__init__()` method:"
   ]
  },
  {
   "cell_type": "code",
   "execution_count": 2,
   "id": "8dc8f0c7",
   "metadata": {},
   "outputs": [],
   "source": [
    "class Coordinate:\n",
    "\n",
    "    def __init__(self, lat, lon):\n",
    "        self.lat = lat\n",
    "        self.lon = lon"
   ]
  },
  {
   "cell_type": "code",
   "execution_count": 4,
   "id": "c9e6bbd2",
   "metadata": {},
   "outputs": [
    {
     "data": {
      "text/plain": [
       "<__main__.Coordinate at 0x7fbf23b00490>"
      ]
     },
     "execution_count": 4,
     "metadata": {},
     "output_type": "execute_result"
    }
   ],
   "source": [
    "moscow = Coordinate(55.76, 37.62)\n",
    "moscow"
   ]
  },
  {
   "cell_type": "code",
   "execution_count": 14,
   "id": "3f382b1e",
   "metadata": {},
   "outputs": [
    {
     "data": {
      "text/plain": [
       "55.756"
      ]
     },
     "execution_count": 14,
     "metadata": {},
     "output_type": "execute_result"
    }
   ],
   "source": [
    "moscow.lat"
   ]
  },
  {
   "cell_type": "markdown",
   "id": "01ed4958",
   "metadata": {},
   "source": [
    "Here you can find the same definition using `namedtuple`:"
   ]
  },
  {
   "cell_type": "code",
   "execution_count": 5,
   "id": "3784382f",
   "metadata": {},
   "outputs": [],
   "source": [
    "from collections import namedtuple\n",
    "\n",
    "\n",
    "Coordinate = namedtuple('Coordinate', 'lat lon')"
   ]
  },
  {
   "cell_type": "code",
   "execution_count": 6,
   "id": "642b2552",
   "metadata": {},
   "outputs": [
    {
     "data": {
      "text/plain": [
       "Coordinate(lat=55.756, lon=37.617)"
      ]
     },
     "execution_count": 6,
     "metadata": {},
     "output_type": "execute_result"
    }
   ],
   "source": [
    "moscow = Coordinate(55.756, 37.617)\n",
    "moscow"
   ]
  },
  {
   "cell_type": "code",
   "execution_count": 15,
   "id": "ae8552e1",
   "metadata": {},
   "outputs": [
    {
     "data": {
      "text/plain": [
       "55.756"
      ]
     },
     "execution_count": 15,
     "metadata": {},
     "output_type": "execute_result"
    }
   ],
   "source": [
    "moscow.lat"
   ]
  },
  {
   "cell_type": "markdown",
   "id": "14f1fd4a",
   "metadata": {},
   "source": [
    "Here you can find the same definition using `NamedTuple`:"
   ]
  },
  {
   "cell_type": "code",
   "execution_count": 7,
   "id": "654fc7ea",
   "metadata": {},
   "outputs": [],
   "source": [
    "import typing\n",
    "\n",
    "Coordinate = typing.NamedTuple('Coordinate',\n",
    "                                [('lat', float), ('lon', float)])"
   ]
  },
  {
   "cell_type": "code",
   "execution_count": 8,
   "id": "4df50f73",
   "metadata": {},
   "outputs": [
    {
     "data": {
      "text/plain": [
       "{'lat': float, 'lon': float}"
      ]
     },
     "execution_count": 8,
     "metadata": {},
     "output_type": "execute_result"
    }
   ],
   "source": [
    "typing.get_type_hints(Coordinate)"
   ]
  },
  {
   "cell_type": "code",
   "execution_count": 16,
   "id": "c91757ea",
   "metadata": {},
   "outputs": [
    {
     "data": {
      "text/plain": [
       "Coordinate(lat=55.756, lon=37.617)"
      ]
     },
     "execution_count": 16,
     "metadata": {},
     "output_type": "execute_result"
    }
   ],
   "source": [
    "moscow = Coordinate(55.756, 37.617)\n",
    "moscow"
   ]
  },
  {
   "cell_type": "code",
   "execution_count": 17,
   "id": "6badea69",
   "metadata": {},
   "outputs": [
    {
     "data": {
      "text/plain": [
       "55.756"
      ]
     },
     "execution_count": 17,
     "metadata": {},
     "output_type": "execute_result"
    }
   ],
   "source": [
    "moscow.lat"
   ]
  },
  {
   "cell_type": "markdown",
   "id": "23ddaea4",
   "metadata": {},
   "source": [
    "Here you can find the same definition using `dataclass`:"
   ]
  },
  {
   "cell_type": "code",
   "execution_count": 11,
   "id": "cb3141d0",
   "metadata": {},
   "outputs": [],
   "source": [
    "from dataclasses import dataclass\n",
    "\n",
    "@dataclass(frozen=True)\n",
    "class Coordinate:\n",
    "    lat: float\n",
    "    lon: float\n",
    "\n",
    "    def __str__(self):\n",
    "        ns = 'N' if self.lat >= 0 else 'S'\n",
    "        we = 'E' if self.lon >= 0 else 'W'\n",
    "        return f'{abs(self.lat):.1f}°{ns}, {abs(self.lon):.1f}°{we}'"
   ]
  },
  {
   "cell_type": "code",
   "execution_count": 13,
   "id": "29199c3c",
   "metadata": {},
   "outputs": [
    {
     "name": "stdout",
     "output_type": "stream",
     "text": [
      "55.8°N, 37.6°E\n"
     ]
    }
   ],
   "source": [
    "moscow = Coordinate(55.756, 37.617)\n",
    "print(moscow)"
   ]
  },
  {
   "cell_type": "code",
   "execution_count": 18,
   "id": "08497ffd",
   "metadata": {},
   "outputs": [
    {
     "data": {
      "text/plain": [
       "55.756"
      ]
     },
     "execution_count": 18,
     "metadata": {},
     "output_type": "execute_result"
    }
   ],
   "source": [
    "moscow.lat"
   ]
  },
  {
   "cell_type": "markdown",
   "id": "e927bf71",
   "metadata": {},
   "source": [
    "### Main features\n",
    "- A key difference between these class builders is that `collections.namedtuple` and `typing.NamedTuple` build tuple subclasses, therefore the instances are immutable. By default, `@dataclass` produces mutable classes. But the decorator accepts a keyword argument frozen. When `frozen=True`, the class will raise an exception if you try to assign a value to a field after the instance is initialized.\n",
    "- Only `typing.NamedTuple` and `dataclass` support the regular `class` statement syntax, making it easier to add methods and docstrings to the class you are creating.\n",
    "- Both named tuple variants provide an instance method `(._asdict)` to construct a dict object from the fields in a data class instance. The `dataclasses` module provides a function to do it: `dataclasses.asdict`.\n",
    "\n"
   ]
  },
  {
   "cell_type": "markdown",
   "id": "4d70d780",
   "metadata": {},
   "source": [
    "### Type Hints 101\n",
    "Type hints—a.k.a. type annotations—are ways to declare the expected type of function arguments, return values, variables, and attributes. The first thing you need to know about type hints is that they are not enforced at all by the Python bytecode compiler and interpreter.\n",
    "The type hints are intended primarily to support third-party type checkers, like Mypy or the PyCharm IDE built-in type checker. These are static analysis tools: they check Python source code “at rest,” not running code."
   ]
  },
  {
   "cell_type": "code",
   "execution_count": 22,
   "id": "7b72470f",
   "metadata": {},
   "outputs": [],
   "source": [
    "import typing\n",
    "\n",
    "class Coordinate(typing.NamedTuple):\n",
    "    lat: float\n",
    "    lon: float"
   ]
  },
  {
   "cell_type": "code",
   "execution_count": 23,
   "id": "1f54cbbf",
   "metadata": {},
   "outputs": [],
   "source": [
    "trash = Coordinate('Ni!', None)"
   ]
  },
  {
   "cell_type": "code",
   "execution_count": 24,
   "id": "c3eb7f2c",
   "metadata": {},
   "outputs": [
    {
     "name": "stdout",
     "output_type": "stream",
     "text": [
      "Coordinate(lat='Ni!', lon=None)\n"
     ]
    }
   ],
   "source": [
    "print(trash)"
   ]
  },
  {
   "cell_type": "markdown",
   "id": "ac104370",
   "metadata": {},
   "source": [
    "#### More About @dataclass\n",
    "The decorator accepts several keyword arguments. This is its signature:\n",
    "```\n",
    "@dataclass(*, init=True, repr=True, eq=True, order=False,\n",
    "              unsafe_hash=False, frozen=False)\n",
    "```\n",
    "\n",
    "|Option\t|Meaning|\tDefault|\tNotes|\n",
    "| --- | --- | --- |--- |\n",
    "|init|Generate `__init__`|True|Ignored if `__init__` is implemented by user.|\n",
    "|repr|Generate `__repr__`|True|Ignored if `__repr__` is implemented by user.|\n",
    "|eq|Generate `__eq__`|True|Ignored if `__eq__` is implemented by user.|\n",
    "|order|Generate `__lt__`, `__le__`, `__gt__`, `__ge__`|False|If True, raises exceptions if `eq=False`, or if any of the comparison methods that would be generated are defined or inherited.|\n",
    "|unsafe_hash|Generate `__hash__`|False|Complex semantics and several caveats—see: dataclass documentation.|\n",
    "|frozen|Make instances “immutable”|False|Instances will be reasonably safe from accidental change, but not really immutable|"
   ]
  },
  {
   "cell_type": "markdown",
   "id": "24a2ffeb",
   "metadata": {},
   "source": [
    "#### Field Options\n",
    "Python does not allow parameters without defaults after parameters with defaults, therefore after you declare a field with a default value, all remaining fields must also have default values. Mutable default values are a common source of bugs for beginning Python developers."
   ]
  },
  {
   "cell_type": "code",
   "execution_count": 1,
   "id": "b15e8376",
   "metadata": {},
   "outputs": [
    {
     "ename": "ValueError",
     "evalue": "mutable default <class 'list'> for field guests is not allowed: use default_factory",
     "output_type": "error",
     "traceback": [
      "\u001b[0;31m---------------------------------------------------------------------------\u001b[0m",
      "\u001b[0;31mValueError\u001b[0m                                Traceback (most recent call last)",
      "Cell \u001b[0;32mIn[1], line 4\u001b[0m\n\u001b[1;32m      1\u001b[0m \u001b[38;5;28;01mfrom\u001b[39;00m \u001b[38;5;21;01mdataclasses\u001b[39;00m \u001b[38;5;28;01mimport\u001b[39;00m dataclass\n\u001b[0;32m----> 4\u001b[0m \u001b[38;5;129m@dataclass\u001b[39m\n\u001b[1;32m      5\u001b[0m \u001b[38;5;28;01mclass\u001b[39;00m \u001b[38;5;21;01mClubMember\u001b[39;00m:\n\u001b[1;32m      6\u001b[0m     name: \u001b[38;5;28mstr\u001b[39m\n\u001b[1;32m      7\u001b[0m     guests: \u001b[38;5;28mlist\u001b[39m \u001b[38;5;241m=\u001b[39m []\n",
      "File \u001b[0;32m~/anaconda3/envs/fluent-python/lib/python3.11/dataclasses.py:1230\u001b[0m, in \u001b[0;36mdataclass\u001b[0;34m(cls, init, repr, eq, order, unsafe_hash, frozen, match_args, kw_only, slots, weakref_slot)\u001b[0m\n\u001b[1;32m   1227\u001b[0m     \u001b[38;5;28;01mreturn\u001b[39;00m wrap\n\u001b[1;32m   1229\u001b[0m \u001b[38;5;66;03m# We're called as @dataclass without parens.\u001b[39;00m\n\u001b[0;32m-> 1230\u001b[0m \u001b[38;5;28;01mreturn\u001b[39;00m wrap(\u001b[38;5;28mcls\u001b[39m)\n",
      "File \u001b[0;32m~/anaconda3/envs/fluent-python/lib/python3.11/dataclasses.py:1220\u001b[0m, in \u001b[0;36mdataclass.<locals>.wrap\u001b[0;34m(cls)\u001b[0m\n\u001b[1;32m   1219\u001b[0m \u001b[38;5;28;01mdef\u001b[39;00m \u001b[38;5;21mwrap\u001b[39m(\u001b[38;5;28mcls\u001b[39m):\n\u001b[0;32m-> 1220\u001b[0m     \u001b[38;5;28;01mreturn\u001b[39;00m _process_class(\u001b[38;5;28mcls\u001b[39m, init, \u001b[38;5;28mrepr\u001b[39m, eq, order, unsafe_hash,\n\u001b[1;32m   1221\u001b[0m                           frozen, match_args, kw_only, slots,\n\u001b[1;32m   1222\u001b[0m                           weakref_slot)\n",
      "File \u001b[0;32m~/anaconda3/envs/fluent-python/lib/python3.11/dataclasses.py:958\u001b[0m, in \u001b[0;36m_process_class\u001b[0;34m(cls, init, repr, eq, order, unsafe_hash, frozen, match_args, kw_only, slots, weakref_slot)\u001b[0m\n\u001b[1;32m    955\u001b[0m         kw_only \u001b[38;5;241m=\u001b[39m \u001b[38;5;28;01mTrue\u001b[39;00m\n\u001b[1;32m    956\u001b[0m     \u001b[38;5;28;01melse\u001b[39;00m:\n\u001b[1;32m    957\u001b[0m         \u001b[38;5;66;03m# Otherwise it's a field of some type.\u001b[39;00m\n\u001b[0;32m--> 958\u001b[0m         cls_fields\u001b[38;5;241m.\u001b[39mappend(_get_field(\u001b[38;5;28mcls\u001b[39m, name, \u001b[38;5;28mtype\u001b[39m, kw_only))\n\u001b[1;32m    960\u001b[0m \u001b[38;5;28;01mfor\u001b[39;00m f \u001b[38;5;129;01min\u001b[39;00m cls_fields:\n\u001b[1;32m    961\u001b[0m     fields[f\u001b[38;5;241m.\u001b[39mname] \u001b[38;5;241m=\u001b[39m f\n",
      "File \u001b[0;32m~/anaconda3/envs/fluent-python/lib/python3.11/dataclasses.py:815\u001b[0m, in \u001b[0;36m_get_field\u001b[0;34m(cls, a_name, a_type, default_kw_only)\u001b[0m\n\u001b[1;32m    811\u001b[0m \u001b[38;5;66;03m# For real fields, disallow mutable defaults.  Use unhashable as a proxy\u001b[39;00m\n\u001b[1;32m    812\u001b[0m \u001b[38;5;66;03m# indicator for mutability.  Read the __hash__ attribute from the class,\u001b[39;00m\n\u001b[1;32m    813\u001b[0m \u001b[38;5;66;03m# not the instance.\u001b[39;00m\n\u001b[1;32m    814\u001b[0m \u001b[38;5;28;01mif\u001b[39;00m f\u001b[38;5;241m.\u001b[39m_field_type \u001b[38;5;129;01mis\u001b[39;00m _FIELD \u001b[38;5;129;01mand\u001b[39;00m f\u001b[38;5;241m.\u001b[39mdefault\u001b[38;5;241m.\u001b[39m\u001b[38;5;18m__class__\u001b[39m\u001b[38;5;241m.\u001b[39m\u001b[38;5;21m__hash__\u001b[39m \u001b[38;5;129;01mis\u001b[39;00m \u001b[38;5;28;01mNone\u001b[39;00m:\n\u001b[0;32m--> 815\u001b[0m     \u001b[38;5;28;01mraise\u001b[39;00m \u001b[38;5;167;01mValueError\u001b[39;00m(\u001b[38;5;124mf\u001b[39m\u001b[38;5;124m'\u001b[39m\u001b[38;5;124mmutable default \u001b[39m\u001b[38;5;132;01m{\u001b[39;00m\u001b[38;5;28mtype\u001b[39m(f\u001b[38;5;241m.\u001b[39mdefault)\u001b[38;5;132;01m}\u001b[39;00m\u001b[38;5;124m for field \u001b[39m\u001b[38;5;124m'\u001b[39m\n\u001b[1;32m    816\u001b[0m                      \u001b[38;5;124mf\u001b[39m\u001b[38;5;124m'\u001b[39m\u001b[38;5;132;01m{\u001b[39;00mf\u001b[38;5;241m.\u001b[39mname\u001b[38;5;132;01m}\u001b[39;00m\u001b[38;5;124m is not allowed: use default_factory\u001b[39m\u001b[38;5;124m'\u001b[39m)\n\u001b[1;32m    818\u001b[0m \u001b[38;5;28;01mreturn\u001b[39;00m f\n",
      "\u001b[0;31mValueError\u001b[0m: mutable default <class 'list'> for field guests is not allowed: use default_factory"
     ]
    }
   ],
   "source": [
    "from dataclasses import dataclass\n",
    "\n",
    "\n",
    "@dataclass\n",
    "class ClubMember:\n",
    "    name: str\n",
    "    guests: list = []"
   ]
  },
  {
   "cell_type": "code",
   "execution_count": 2,
   "id": "5d33e2cc",
   "metadata": {},
   "outputs": [],
   "source": [
    "from dataclasses import dataclass, field\n",
    "\n",
    "@dataclass\n",
    "class ClubMember:\n",
    "    name: str\n",
    "    guests: list = field(default_factory=list)"
   ]
  },
  {
   "cell_type": "markdown",
   "id": "dd1cd1ed",
   "metadata": {},
   "source": [
    "The default_factory parameter lets you provide a function, class, or any other callable, which will be invoked with zero arguments to build a default value each time an instance of the data class is created. This way, each instance of ClubMember will have its own list—instead of all instances sharing the same list from the class, which is rarely what we want and is often a bug.\n",
    "\n"
   ]
  },
  {
   "cell_type": "markdown",
   "id": "3d61eef6",
   "metadata": {},
   "source": [
    "#### Post-init Processing\n",
    "The `__init__` method generated by `@dataclass` only takes the arguments passed and assigns them—or their default values, if missing—to the instance attributes that are instance fields. But you may need to do more than that to initialize the instance. If that’s the case, you can provide a `__post_init__` method. When that method exists, @dataclass will add code to the generated `__init__` to call `__post_init__` as the last step.\n",
    "\n"
   ]
  },
  {
   "cell_type": "markdown",
   "id": "682be35c",
   "metadata": {},
   "source": [
    "#### Typed Class Attributes\n",
    "\n",
    "```all_handles: ClassVar[set[str]] = set()```\n",
    "\n",
    "To code that annotation, we must import ClassVar from the typing module.\n",
    "\n",
    "The @dataclass decorator doesn’t care about the types in the annotations, except in two cases, and this is one of them: if the type is ClassVar, an instance field will not be generated for that attribute.\n",
    "\n",
    "#### Initialization Variables That Are Not Fields\n",
    "\n",
    "Sometimes you may need to pass arguments to `__init__` that are not instance fields. To declare an argument like that, the dataclasses module provides the pseudotype `InitVar`, which uses the same syntax of `typing.ClassVar`.\n",
    "\n",
    "```database: InitVar[DatabaseType] = None```\n",
    "\n"
   ]
  },
  {
   "cell_type": "markdown",
   "id": "a21b7815",
   "metadata": {},
   "source": [
    "## Chapter 6. Object References, Mutability, and Recycling"
   ]
  },
  {
   "cell_type": "code",
   "execution_count": 3,
   "id": "b6f61dff",
   "metadata": {},
   "outputs": [
    {
     "data": {
      "text/plain": [
       "[1, 2, 3, 4]"
      ]
     },
     "execution_count": 3,
     "metadata": {},
     "output_type": "execute_result"
    }
   ],
   "source": [
    "a = [1, 2, 3]  \n",
    "b = a          \n",
    "a.append(4)    \n",
    "b "
   ]
  },
  {
   "cell_type": "markdown",
   "id": "3b0aa44a",
   "metadata": {},
   "source": [
    "Therefore, the `b = a` statement does not copy the contents of box `a` into box `b`. It attaches the label `b` to the object that already has the label `a`.\n",
    "\n",
    "In The Python Language Reference, `“3.1. Objects, values and types”` states:\n",
    "\n",
    "> An object’s identity never changes once it has been created; you may think of it as the object’s address in memory. The `is` operator compares the identity of two objects; the `id()` function returns an integer representing its identity.\n",
    "\n",
    "In CPython, `id()` returns the memory address of the object, but it may be something else in another Python interpreter.  The key point is that the ID is guaranteed to be a unique integer label, and it will never change during the life of the object."
   ]
  },
  {
   "cell_type": "markdown",
   "id": "070a065f",
   "metadata": {},
   "source": [
    "### Choosing Between == and is\n",
    "The `==` operator compares the values of objects (the data they hold), while `is` compares their identities.\n",
    "\n",
    "By far, the most common case is checking whether a variable is bound to `None`. This is the recommended way to do it:\n",
    "\n",
    "`x is None`\n",
    "\n",
    "And the proper way to write its negation is:\n",
    "\n",
    "`x is not None`"
   ]
  },
  {
   "cell_type": "markdown",
   "id": "c0a81e84",
   "metadata": {},
   "source": [
    "#### The Relative Immutability of Tuples\n",
    "The immutability of tuples really refers to the physical contents of the `tuple` data structure (i.e., the references it holds), and does not extend to the referenced objects."
   ]
  },
  {
   "cell_type": "code",
   "execution_count": 9,
   "id": "dd9a88c0",
   "metadata": {},
   "outputs": [],
   "source": [
    "#  t1 is immutable, but t1[-1] is mutable.\n",
    "t1 = (1, 2, [30, 40])"
   ]
  },
  {
   "cell_type": "code",
   "execution_count": 2,
   "id": "0fc1d1f8",
   "metadata": {},
   "outputs": [],
   "source": [
    "t2 = (1, 2, [30, 40])"
   ]
  },
  {
   "cell_type": "code",
   "execution_count": 3,
   "id": "fea1a5a0",
   "metadata": {},
   "outputs": [
    {
     "data": {
      "text/plain": [
       "True"
      ]
     },
     "execution_count": 3,
     "metadata": {},
     "output_type": "execute_result"
    }
   ],
   "source": [
    "t1 == t2"
   ]
  },
  {
   "cell_type": "code",
   "execution_count": 4,
   "id": "c3d8cc83",
   "metadata": {},
   "outputs": [
    {
     "data": {
      "text/plain": [
       "4381390912"
      ]
     },
     "execution_count": 4,
     "metadata": {},
     "output_type": "execute_result"
    }
   ],
   "source": [
    "id(t1[-1])"
   ]
  },
  {
   "cell_type": "code",
   "execution_count": 5,
   "id": "12fc9ab8",
   "metadata": {},
   "outputs": [],
   "source": [
    "t1[-1].append(99) "
   ]
  },
  {
   "cell_type": "code",
   "execution_count": 6,
   "id": "381185fa",
   "metadata": {},
   "outputs": [
    {
     "data": {
      "text/plain": [
       "4381390912"
      ]
     },
     "execution_count": 6,
     "metadata": {},
     "output_type": "execute_result"
    }
   ],
   "source": [
    "id(t1[-1])"
   ]
  },
  {
   "cell_type": "code",
   "execution_count": 8,
   "id": "2aed5f13",
   "metadata": {},
   "outputs": [
    {
     "data": {
      "text/plain": [
       "(1, 2, [30, 40, 99])"
      ]
     },
     "execution_count": 8,
     "metadata": {},
     "output_type": "execute_result"
    }
   ],
   "source": [
    "t1"
   ]
  },
  {
   "cell_type": "code",
   "execution_count": 7,
   "id": "b66981cc",
   "metadata": {},
   "outputs": [
    {
     "data": {
      "text/plain": [
       "False"
      ]
     },
     "execution_count": 7,
     "metadata": {},
     "output_type": "execute_result"
    }
   ],
   "source": [
    "t1 == t2"
   ]
  },
  {
   "cell_type": "markdown",
   "id": "e283629d",
   "metadata": {},
   "source": [
    "#### Copies Are Shallow by Default\n",
    "For lists and other mutable sequences, the shortcut `l2 = l1[:]` also makes a copy.\n",
    "\n",
    "However, using the constructor or `[:]` produces a __shallow copy__ (i.e., the outermost container is duplicated, but the copy is filled with references to the same items held by the original container). This saves memory and causes no problems if all the items are immutable. But if there are mutable items, this may lead to unpleasant surprises.\n",
    "\n"
   ]
  },
  {
   "cell_type": "markdown",
   "id": "9d7896d6",
   "metadata": {},
   "source": [
    "#### Deep and Shallow Copies of Arbitrary Objects\n",
    "Working with shallow copies is not always a problem, but sometimes you need to make deep copies (i.e., duplicates that do not share references of embedded objects). The `copy` module provides the `deepcopy` and `copy` functions that return deep and shallow copies of arbitrary objects."
   ]
  },
  {
   "cell_type": "code",
   "execution_count": 11,
   "id": "75f3658e",
   "metadata": {},
   "outputs": [],
   "source": [
    "class Bus:\n",
    "\n",
    "    def __init__(self, passengers=None):\n",
    "        if passengers is None:\n",
    "            self.passengers = []\n",
    "        else:\n",
    "            self.passengers = list(passengers)\n",
    "\n",
    "    def pick(self, name):\n",
    "        self.passengers.append(name)\n",
    "\n",
    "    def drop(self, name):\n",
    "        self.passengers.remove(name)"
   ]
  },
  {
   "cell_type": "code",
   "execution_count": 12,
   "id": "413c535c",
   "metadata": {},
   "outputs": [],
   "source": [
    "import copy\n",
    "\n",
    "bus1 = Bus(['Alice', 'Bill', 'Claire', 'David'])\n",
    "bus2 = copy.copy(bus1)\n",
    "bus3 = copy.deepcopy(bus1)"
   ]
  },
  {
   "cell_type": "code",
   "execution_count": 13,
   "id": "9f7a7e02",
   "metadata": {},
   "outputs": [
    {
     "data": {
      "text/plain": [
       "(4381388560, 4381312272, 4381327312)"
      ]
     },
     "execution_count": 13,
     "metadata": {},
     "output_type": "execute_result"
    }
   ],
   "source": [
    "id(bus1), id(bus2), id(bus3)\n"
   ]
  },
  {
   "cell_type": "code",
   "execution_count": 14,
   "id": "031a829a",
   "metadata": {},
   "outputs": [],
   "source": [
    "bus1.drop('Bill')"
   ]
  },
  {
   "cell_type": "code",
   "execution_count": 15,
   "id": "adf9f0cb",
   "metadata": {},
   "outputs": [
    {
     "data": {
      "text/plain": [
       "['Alice', 'Claire', 'David']"
      ]
     },
     "execution_count": 15,
     "metadata": {},
     "output_type": "execute_result"
    }
   ],
   "source": [
    "bus2.passengers"
   ]
  },
  {
   "cell_type": "code",
   "execution_count": 16,
   "id": "4debbe1c",
   "metadata": {},
   "outputs": [
    {
     "data": {
      "text/plain": [
       "(4381378624, 4381378624, 4394587712)"
      ]
     },
     "execution_count": 16,
     "metadata": {},
     "output_type": "execute_result"
    }
   ],
   "source": [
    "id(bus1.passengers), id(bus2.passengers), id(bus3.passengers)"
   ]
  },
  {
   "cell_type": "code",
   "execution_count": 17,
   "id": "bb4d1c6e",
   "metadata": {},
   "outputs": [
    {
     "data": {
      "text/plain": [
       "['Alice', 'Bill', 'Claire', 'David']"
      ]
     },
     "execution_count": 17,
     "metadata": {},
     "output_type": "execute_result"
    }
   ],
   "source": [
    "bus3.passengers"
   ]
  },
  {
   "cell_type": "markdown",
   "id": "2ebae766",
   "metadata": {},
   "source": [
    "### Function Parameters as References\n",
    "The only mode of parameter passing in Python is call by sharing. It means that each formal parameter of the function gets a copy of each reference in the arguments. In other words, the parameters inside the function become aliases of the actual arguments.\n",
    "\n",
    "Optional parameters with default values are a great feature of Python function definitions, allowing our APIs to evolve while remaining backward compatible. However, you should avoid mutable objects as default values for parameters."
   ]
  },
  {
   "cell_type": "code",
   "execution_count": 18,
   "id": "7e3f224c",
   "metadata": {},
   "outputs": [],
   "source": [
    "class HauntedBus:\n",
    "    \"\"\"A bus model haunted by ghost passengers\"\"\"\n",
    "\n",
    "    def __init__(self, passengers=[]):  \n",
    "        self.passengers = passengers  \n",
    "\n",
    "    def pick(self, name):\n",
    "        self.passengers.append(name)  \n",
    "\n",
    "    def drop(self, name):\n",
    "        self.passengers.remove(name)"
   ]
  },
  {
   "cell_type": "code",
   "execution_count": 19,
   "id": "20e8b3a3",
   "metadata": {},
   "outputs": [
    {
     "data": {
      "text/plain": [
       "['Alice', 'Bill']"
      ]
     },
     "execution_count": 19,
     "metadata": {},
     "output_type": "execute_result"
    }
   ],
   "source": [
    "bus1 = HauntedBus(['Alice', 'Bill'])\n",
    "bus1.passengers"
   ]
  },
  {
   "cell_type": "code",
   "execution_count": 20,
   "id": "f61417f9",
   "metadata": {},
   "outputs": [],
   "source": [
    "bus1.pick('Charlie')\n",
    "bus1.drop('Alice')"
   ]
  },
  {
   "cell_type": "code",
   "execution_count": 21,
   "id": "8dc540a1",
   "metadata": {},
   "outputs": [
    {
     "data": {
      "text/plain": [
       "['Bill', 'Charlie']"
      ]
     },
     "execution_count": 21,
     "metadata": {},
     "output_type": "execute_result"
    }
   ],
   "source": [
    "bus1.passengers"
   ]
  },
  {
   "cell_type": "code",
   "execution_count": 22,
   "id": "a5bda1ee",
   "metadata": {},
   "outputs": [],
   "source": [
    "bus2 = HauntedBus()"
   ]
  },
  {
   "cell_type": "code",
   "execution_count": 23,
   "id": "68903015",
   "metadata": {},
   "outputs": [],
   "source": [
    "bus2.pick('Carrie')"
   ]
  },
  {
   "cell_type": "code",
   "execution_count": 24,
   "id": "ac37052e",
   "metadata": {},
   "outputs": [
    {
     "data": {
      "text/plain": [
       "['Carrie']"
      ]
     },
     "execution_count": 24,
     "metadata": {},
     "output_type": "execute_result"
    }
   ],
   "source": [
    "bus2.passengers"
   ]
  },
  {
   "cell_type": "code",
   "execution_count": 25,
   "id": "23dd5e59",
   "metadata": {},
   "outputs": [],
   "source": [
    "bus3 = HauntedBus()"
   ]
  },
  {
   "cell_type": "code",
   "execution_count": 26,
   "id": "2ca35853",
   "metadata": {},
   "outputs": [
    {
     "data": {
      "text/plain": [
       "['Carrie']"
      ]
     },
     "execution_count": 26,
     "metadata": {},
     "output_type": "execute_result"
    }
   ],
   "source": [
    "bus3.passengers"
   ]
  },
  {
   "cell_type": "markdown",
   "id": "da915e79",
   "metadata": {},
   "source": [
    "When you are coding a function that receives a mutable parameter, you should carefully consider whether the caller expects the argument passed to be changed."
   ]
  },
  {
   "cell_type": "code",
   "execution_count": 27,
   "id": "5e7047ac",
   "metadata": {},
   "outputs": [],
   "source": [
    "class TwilightBus:\n",
    "    \"\"\"A bus model that makes passengers vanish\"\"\"\n",
    "\n",
    "    def __init__(self, passengers=None):\n",
    "        if passengers is None:\n",
    "            self.passengers = []  \n",
    "        else:\n",
    "            self.passengers = passengers  \n",
    "\n",
    "    def pick(self, name):\n",
    "        self.passengers.append(name)\n",
    "\n",
    "    def drop(self, name):\n",
    "        self.passengers.remove(name)"
   ]
  },
  {
   "cell_type": "markdown",
   "id": "e414f95b",
   "metadata": {},
   "source": [
    "The problem here is that the bus is aliasing the list that is passed to the constructor. Instead, it should keep its own passenger list. The fix is simple: in `__init__`, when the passengers parameter is provided, `self.passengers` should be initialized with a copy of it:"
   ]
  },
  {
   "cell_type": "code",
   "execution_count": 29,
   "id": "dfbbd2f4",
   "metadata": {},
   "outputs": [],
   "source": [
    "def __init__(self, passengers=None):\n",
    "    if passengers is None:\n",
    "        self.passengers = []\n",
    "    else:\n",
    "        self.passengers = list(passengers)"
   ]
  },
  {
   "cell_type": "markdown",
   "id": "78a80d4a",
   "metadata": {},
   "source": [
    "### del and Garbage Collection\n",
    "The first strange fact about `del` is that it’s not a function, it’s a statement. The second surprising fact is that `del` deletes references, not objects.\n",
    "\n",
    "In CPython, the primary algorithm for garbage collection is reference counting. Essentially, each object keeps count of how many references point to it. As soon as that refcount reaches zero, the object is immediately destroyed: CPython calls the `__del__` method on the object (if defined) and then frees the memory allocated to the object."
   ]
  },
  {
   "cell_type": "markdown",
   "id": "352e8e99",
   "metadata": {},
   "source": [
    "## Chapter 7. Functions as First-Class Objects\n",
    "In python functions are treated like objects.\n"
   ]
  },
  {
   "cell_type": "code",
   "execution_count": 1,
   "id": "ea59d5bf",
   "metadata": {},
   "outputs": [],
   "source": [
    "def factorial(n):  \n",
    "    \"\"\"returns n!\"\"\"\n",
    "    return 1 if n < 2 else n * factorial(n - 1)"
   ]
  },
  {
   "cell_type": "code",
   "execution_count": 2,
   "id": "eaa6eb23",
   "metadata": {},
   "outputs": [
    {
     "data": {
      "text/plain": [
       "1405006117752879898543142606244511569936384000000000"
      ]
     },
     "execution_count": 2,
     "metadata": {},
     "output_type": "execute_result"
    }
   ],
   "source": [
    "factorial(42)"
   ]
  },
  {
   "cell_type": "code",
   "execution_count": 3,
   "id": "c022150e",
   "metadata": {},
   "outputs": [
    {
     "data": {
      "text/plain": [
       "'returns n!'"
      ]
     },
     "execution_count": 3,
     "metadata": {},
     "output_type": "execute_result"
    }
   ],
   "source": [
    "factorial.__doc__"
   ]
  },
  {
   "cell_type": "code",
   "execution_count": 4,
   "id": "dd85fafb",
   "metadata": {},
   "outputs": [
    {
     "data": {
      "text/plain": [
       "function"
      ]
     },
     "execution_count": 4,
     "metadata": {},
     "output_type": "execute_result"
    }
   ],
   "source": [
    "type(factorial)"
   ]
  },
  {
   "cell_type": "markdown",
   "id": "960d0cbd",
   "metadata": {},
   "source": [
    "Having first-class functions enables programming in a functional style. One of the hallmarks of functional programming is the use of higher-order functions."
   ]
  },
  {
   "cell_type": "markdown",
   "id": "422137a5",
   "metadata": {},
   "source": [
    "### Higher-Order Functions\n",
    "A function that takes a function as an argument or returns a function as the result is a higher-order function."
   ]
  },
  {
   "cell_type": "code",
   "execution_count": 5,
   "id": "45915339",
   "metadata": {},
   "outputs": [
    {
     "data": {
      "text/plain": [
       "['fig', 'apple', 'cherry', 'banana', 'raspberry', 'strawberry']"
      ]
     },
     "execution_count": 5,
     "metadata": {},
     "output_type": "execute_result"
    }
   ],
   "source": [
    "fruits = ['strawberry', 'fig', 'apple', 'cherry', 'raspberry', 'banana']\n",
    "sorted(fruits, key=len)"
   ]
  },
  {
   "cell_type": "markdown",
   "id": "c6959be8",
   "metadata": {},
   "source": [
    "In the functional programming paradigm, some of the best known higher-order functions are `map`, `filter`, `reduce`, and `apply`. The `apply`function was deprecated in Python 2.3 and removed in Python 3 because it’s no longer necessary. The `map` and `filter` functions are still built-ins in Python 3, but since the introduction of list comprehensions and generator expressions, they are not as important. "
   ]
  },
  {
   "cell_type": "code",
   "execution_count": 6,
   "id": "34cfb95c",
   "metadata": {},
   "outputs": [
    {
     "data": {
      "text/plain": [
       "[1, 1, 2, 6, 24, 120]"
      ]
     },
     "execution_count": 6,
     "metadata": {},
     "output_type": "execute_result"
    }
   ],
   "source": [
    "list(map(factorial, range(6)))"
   ]
  },
  {
   "cell_type": "code",
   "execution_count": 7,
   "id": "1f3593af",
   "metadata": {},
   "outputs": [
    {
     "data": {
      "text/plain": [
       "[1, 1, 2, 6, 24, 120]"
      ]
     },
     "execution_count": 7,
     "metadata": {},
     "output_type": "execute_result"
    }
   ],
   "source": [
    "[factorial(n) for n in range(6)]"
   ]
  },
  {
   "cell_type": "code",
   "execution_count": 8,
   "id": "6ad23b5f",
   "metadata": {},
   "outputs": [
    {
     "data": {
      "text/plain": [
       "[1, 6, 120]"
      ]
     },
     "execution_count": 8,
     "metadata": {},
     "output_type": "execute_result"
    }
   ],
   "source": [
    "list(map(factorial, filter(lambda n: n % 2, range(6))))"
   ]
  },
  {
   "cell_type": "code",
   "execution_count": 9,
   "id": "9c9dc08f",
   "metadata": {},
   "outputs": [
    {
     "data": {
      "text/plain": [
       "[1, 6, 120]"
      ]
     },
     "execution_count": 9,
     "metadata": {},
     "output_type": "execute_result"
    }
   ],
   "source": [
    "[factorial(n) for n in range(6) if n % 2]"
   ]
  },
  {
   "cell_type": "markdown",
   "id": "6fea5864",
   "metadata": {},
   "source": [
    "In Python 3, `map` and `filter` return generators —a form of iterator— so their direct substitute is now a generator expression (in Python 2, these functions returned lists, therefore their closest alternative was a listcomp).\n",
    "The `reduce` function was demoted from a built-in in Python 2 to the `functools` module in Python 3.\n",
    "\n",
    "Other reducing built-ins are `all` and `any`:\n",
    "\n",
    "- `all(iterable)`: Returns `True` if there are no falsy elements in the iterable; `all([])` returns `True`.\n",
    "\n",
    "- `any(iterable)`: Returns `True` if any element of the iterable is truthy; `any([])` returns `False`."
   ]
  },
  {
   "cell_type": "markdown",
   "id": "be48d60f",
   "metadata": {},
   "source": [
    "### Anonymous Functions\n",
    "The `lambda` keyword creates an anonymous function within a Python expression. The `lambda` syntax is just syntactic sugar: a `lambda` expression creates a function object just like the `def` statement."
   ]
  },
  {
   "cell_type": "code",
   "execution_count": 1,
   "id": "e1fb01e3",
   "metadata": {},
   "outputs": [
    {
     "data": {
      "text/plain": [
       "['banana', 'apple', 'fig', 'raspberry', 'strawberry', 'cherry']"
      ]
     },
     "execution_count": 1,
     "metadata": {},
     "output_type": "execute_result"
    }
   ],
   "source": [
    "fruits = ['strawberry', 'fig', 'apple', 'cherry', 'raspberry', 'banana']\n",
    "sorted(fruits, key=lambda word: word[::-1])"
   ]
  },
  {
   "cell_type": "markdown",
   "id": "af739c29",
   "metadata": {},
   "source": [
    "### The Nine Flavors of Callable Objects\n",
    " To determine whether an object is callable, use the `callable()` built-in function:\n",
    " - __User-defined functions__: Created with `def` statements or `lambda` expressions.\n",
    " - __Built-in functions__: A function implemented in C (for CPython), like `len` or `time.strftime`.\n",
    " - __Built-in methods__: Methods implemented in C, like `dict.get`.\n",
    " - __Methods__: Functions defined in the body of a class.\n",
    " - __Classes__: When invoked, a class runs its `__new__` method to create an instance, then `__init__` to initialize it, and finally the instance is returned to the caller. Because there is no `new` operator in Python, calling a class is like calling a function.\n",
    " - __Class instances__: If a class defines a `__call__` method, then its instances may be invoked as functions.\n",
    " - __Generator functions__: Functions or methods that use the `yield` keyword in their body. When called, they return a generator object.\n",
    " - __Native coroutine functions__: Functions or methods defined with `async def`. When called, they return a coroutine object. Added in Python 3.5.\n",
    " - __Asynchronous generator functions__: Functions or methods defined with `async def` that have `yield` in their body. When called, they return an asynchronous generator for use with `async for`. Added in Python 3.6.\n"
   ]
  },
  {
   "cell_type": "code",
   "execution_count": 2,
   "id": "37d722dc",
   "metadata": {},
   "outputs": [
    {
     "data": {
      "text/plain": [
       "(<function abs(x, /)>, str, 'Ni!')"
      ]
     },
     "execution_count": 2,
     "metadata": {},
     "output_type": "execute_result"
    }
   ],
   "source": [
    "abs, str, 'Ni!'"
   ]
  },
  {
   "cell_type": "code",
   "execution_count": 3,
   "id": "1705e94b",
   "metadata": {},
   "outputs": [
    {
     "data": {
      "text/plain": [
       "[True, True, False]"
      ]
     },
     "execution_count": 3,
     "metadata": {},
     "output_type": "execute_result"
    }
   ],
   "source": [
    "[callable(obj) for obj in (abs, str, 'Ni!')]"
   ]
  },
  {
   "cell_type": "markdown",
   "id": "2be410df",
   "metadata": {},
   "source": [
    "### From Positional to Keyword-Only Parameters\n",
    "One of the best features of Python functions is the extremely flexible parameter handling mechanism. Closely related are the use of `*` and `**` to unpack iterables and mappings into separate arguments when we call a function. \n",
    "\n",
    "To specify keyword-only arguments when defining a function, name them after the argument prefixed with `*`"
   ]
  },
  {
   "cell_type": "code",
   "execution_count": 4,
   "id": "0617854f",
   "metadata": {},
   "outputs": [],
   "source": [
    "def f(a, *, b):\n",
    "    return a, b"
   ]
  },
  {
   "cell_type": "code",
   "execution_count": 5,
   "id": "9c4b9de7",
   "metadata": {},
   "outputs": [
    {
     "data": {
      "text/plain": [
       "(1, 2)"
      ]
     },
     "execution_count": 5,
     "metadata": {},
     "output_type": "execute_result"
    }
   ],
   "source": [
    "f(1, b=2)"
   ]
  },
  {
   "cell_type": "code",
   "execution_count": 6,
   "id": "d08e765f",
   "metadata": {},
   "outputs": [
    {
     "ename": "TypeError",
     "evalue": "f() takes 1 positional argument but 2 were given",
     "output_type": "error",
     "traceback": [
      "\u001b[0;31m---------------------------------------------------------------------------\u001b[0m",
      "\u001b[0;31mTypeError\u001b[0m                                 Traceback (most recent call last)",
      "Cell \u001b[0;32mIn[6], line 1\u001b[0m\n\u001b[0;32m----> 1\u001b[0m f(\u001b[38;5;241m1\u001b[39m, \u001b[38;5;241m2\u001b[39m)\n",
      "\u001b[0;31mTypeError\u001b[0m: f() takes 1 positional argument but 2 were given"
     ]
    }
   ],
   "source": [
    "f(1, 2)"
   ]
  },
  {
   "cell_type": "markdown",
   "id": "3f0bf66e",
   "metadata": {},
   "source": [
    "To define a function requiring positional-only parameters, use `/` in the parameter list."
   ]
  },
  {
   "cell_type": "code",
   "execution_count": 7,
   "id": "82bc10b5",
   "metadata": {},
   "outputs": [],
   "source": [
    "def divmod(a, b, /):\n",
    "    return (a // b, a % b)"
   ]
  },
  {
   "cell_type": "code",
   "execution_count": 8,
   "id": "15ffd1fe",
   "metadata": {},
   "outputs": [
    {
     "data": {
      "text/plain": [
       "(2, 0)"
      ]
     },
     "execution_count": 8,
     "metadata": {},
     "output_type": "execute_result"
    }
   ],
   "source": [
    "divmod(10, 5)"
   ]
  },
  {
   "cell_type": "markdown",
   "id": "6bde8dad",
   "metadata": {},
   "source": [
    "##"
   ]
  }
 ],
 "metadata": {
  "kernelspec": {
   "display_name": "Python 3 (ipykernel)",
   "language": "python",
   "name": "python3"
  },
  "language_info": {
   "codemirror_mode": {
    "name": "ipython",
    "version": 3
   },
   "file_extension": ".py",
   "mimetype": "text/x-python",
   "name": "python",
   "nbconvert_exporter": "python",
   "pygments_lexer": "ipython3",
   "version": "3.11.4"
  }
 },
 "nbformat": 4,
 "nbformat_minor": 5
}
