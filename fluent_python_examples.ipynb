{
 "cells": [
  {
   "cell_type": "markdown",
   "id": "87557971",
   "metadata": {},
   "source": [
    "# Fluent Python, 2nd Edition Luciano Ramalho \n",
    "## Core Concepts and Some Examples"
   ]
  },
  {
   "cell_type": "markdown",
   "id": "a7c6ec5a",
   "metadata": {},
   "source": [
    "## Chapter 2. An Array of Sequences"
   ]
  },
  {
   "cell_type": "markdown",
   "id": "0049cea3",
   "metadata": {},
   "source": [
    "### Container sequences\n",
    "Can hold items of different types, including nested containers. Some examples: `list`, `tuple`, and `collections.deque`. They hold references to the objects it contains.\n",
    "\n",
    "### Flat sequences\n",
    "Hold items of one simple type. Some examples: `str`, `bytes`, and `array.array`. They store the value of its contents in its own memory space.\n",
    "\n",
    "### Mutable sequences\n",
    "For example, `list`, `bytearray`, `array.array`, and `collections.deque`.\n",
    "\n",
    "### Immutable sequences\n",
    "For example, `tuple`, `str`, and `bytes`."
   ]
  },
  {
   "cell_type": "markdown",
   "id": "6287b85d",
   "metadata": {},
   "source": [
    "### List Comprenhension\n",
    "This is one way to build lists. If the list comprehension spans more than two lines, it is probably best to break it apart or rewrite it as a plain old for loop. "
   ]
  },
  {
   "cell_type": "code",
   "execution_count": 1,
   "id": "f6c7c598",
   "metadata": {},
   "outputs": [
    {
     "data": {
      "text/plain": [
       "[36, 162, 163, 165, 8364, 164]"
      ]
     },
     "execution_count": 1,
     "metadata": {},
     "output_type": "execute_result"
    }
   ],
   "source": [
    "symbols = '$¢£¥€¤'\n",
    "codes = [ord(symbol) for symbol in symbols]\n",
    "codes"
   ]
  },
  {
   "cell_type": "markdown",
   "id": "700e2925",
   "metadata": {},
   "source": [
    "**Example:** Cartesian product using a list comphension"
   ]
  },
  {
   "cell_type": "code",
   "execution_count": 4,
   "id": "ff85813e",
   "metadata": {},
   "outputs": [
    {
     "data": {
      "text/plain": [
       "[('black', 'S'),\n",
       " ('black', 'M'),\n",
       " ('black', 'L'),\n",
       " ('white', 'S'),\n",
       " ('white', 'M'),\n",
       " ('white', 'L')]"
      ]
     },
     "execution_count": 4,
     "metadata": {},
     "output_type": "execute_result"
    }
   ],
   "source": [
    "colors = ['black', 'white']\n",
    "sizes = ['S', 'M', 'L']\n",
    "tshirts = [(color, size) for color in colors for size in sizes]\n",
    "tshirts"
   ]
  },
  {
   "cell_type": "markdown",
   "id": "38c0bc9e",
   "metadata": {},
   "source": [
    "### Generator Expressions\n",
    "Saves memory because it yields items one by one using the iterator protocol instead of building a whole list just to feed another constructor."
   ]
  },
  {
   "cell_type": "code",
   "execution_count": 5,
   "id": "ebfa1ad5",
   "metadata": {},
   "outputs": [
    {
     "data": {
      "text/plain": [
       "(36, 162, 163, 165, 8364, 164)"
      ]
     },
     "execution_count": 5,
     "metadata": {},
     "output_type": "execute_result"
    }
   ],
   "source": [
    "symbols = '$¢£¥€¤'\n",
    "tuple(ord(symbol) for symbol in symbols)"
   ]
  },
  {
   "cell_type": "markdown",
   "id": "fe1dc28d",
   "metadata": {},
   "source": [
    "### Slicing\n",
    "`seq[start:stop:step]`\n",
    "\n",
    "Mutable sequences can be grafted, excised, and otherwise modified in place using slice notation on the lefthand side of an assignment statement or as the target of a del statement."
   ]
  },
  {
   "cell_type": "code",
   "execution_count": 1,
   "id": "ef6a35d5",
   "metadata": {},
   "outputs": [
    {
     "data": {
      "text/plain": [
       "[0, 1, 2, 3, 4, 5, 6, 7, 8, 9]"
      ]
     },
     "execution_count": 1,
     "metadata": {},
     "output_type": "execute_result"
    }
   ],
   "source": [
    "l = list(range(10))\n",
    "l"
   ]
  },
  {
   "cell_type": "code",
   "execution_count": 2,
   "id": "33fc6680",
   "metadata": {},
   "outputs": [],
   "source": [
    "l[2:5] = [20, 30]"
   ]
  },
  {
   "cell_type": "code",
   "execution_count": 3,
   "id": "a9a244c3",
   "metadata": {},
   "outputs": [
    {
     "data": {
      "text/plain": [
       "[0, 1, 20, 30, 5, 6, 7, 8, 9]"
      ]
     },
     "execution_count": 3,
     "metadata": {},
     "output_type": "execute_result"
    }
   ],
   "source": [
    "l"
   ]
  },
  {
   "cell_type": "code",
   "execution_count": 4,
   "id": "0576371a",
   "metadata": {},
   "outputs": [],
   "source": [
    "del l[5:7]"
   ]
  },
  {
   "cell_type": "code",
   "execution_count": 5,
   "id": "a25136d1",
   "metadata": {},
   "outputs": [
    {
     "data": {
      "text/plain": [
       "[0, 1, 20, 30, 5, 8, 9]"
      ]
     },
     "execution_count": 5,
     "metadata": {},
     "output_type": "execute_result"
    }
   ],
   "source": [
    "l"
   ]
  },
  {
   "cell_type": "code",
   "execution_count": 6,
   "id": "de028e91",
   "metadata": {},
   "outputs": [],
   "source": [
    "l[3::2] = [11, 22]"
   ]
  },
  {
   "cell_type": "code",
   "execution_count": 7,
   "id": "741167e0",
   "metadata": {},
   "outputs": [
    {
     "data": {
      "text/plain": [
       "[0, 1, 20, 11, 5, 22, 9]"
      ]
     },
     "execution_count": 7,
     "metadata": {},
     "output_type": "execute_result"
    }
   ],
   "source": [
    "l"
   ]
  },
  {
   "cell_type": "markdown",
   "id": "a4315564",
   "metadata": {},
   "source": [
    "### list.sort Versus the sorted Built-In\n",
    "The `list.sort method` sorts a list in place—that is, without making a copy. In contrast, the built-in function sorted creates a new list and returns it."
   ]
  },
  {
   "cell_type": "code",
   "execution_count": 8,
   "id": "3f7004cf",
   "metadata": {},
   "outputs": [],
   "source": [
    "fruits = ['grape', 'raspberry', 'apple', 'banana']"
   ]
  },
  {
   "cell_type": "code",
   "execution_count": 9,
   "id": "d53a7ab6",
   "metadata": {},
   "outputs": [
    {
     "data": {
      "text/plain": [
       "['apple', 'banana', 'grape', 'raspberry']"
      ]
     },
     "execution_count": 9,
     "metadata": {},
     "output_type": "execute_result"
    }
   ],
   "source": [
    "sorted(fruits)"
   ]
  },
  {
   "cell_type": "code",
   "execution_count": 10,
   "id": "88f2b74a",
   "metadata": {},
   "outputs": [
    {
     "data": {
      "text/plain": [
       "['grape', 'raspberry', 'apple', 'banana']"
      ]
     },
     "execution_count": 10,
     "metadata": {},
     "output_type": "execute_result"
    }
   ],
   "source": [
    "fruits"
   ]
  },
  {
   "cell_type": "code",
   "execution_count": 11,
   "id": "78d0aad9",
   "metadata": {},
   "outputs": [
    {
     "data": {
      "text/plain": [
       "['raspberry', 'grape', 'banana', 'apple']"
      ]
     },
     "execution_count": 11,
     "metadata": {},
     "output_type": "execute_result"
    }
   ],
   "source": [
    "sorted(fruits, reverse=True)"
   ]
  },
  {
   "cell_type": "code",
   "execution_count": 12,
   "id": "51ac55a4",
   "metadata": {},
   "outputs": [
    {
     "data": {
      "text/plain": [
       "['grape', 'apple', 'banana', 'raspberry']"
      ]
     },
     "execution_count": 12,
     "metadata": {},
     "output_type": "execute_result"
    }
   ],
   "source": [
    "sorted(fruits, key=len)"
   ]
  },
  {
   "cell_type": "code",
   "execution_count": 14,
   "id": "7b061d17",
   "metadata": {},
   "outputs": [],
   "source": [
    "fruits.sort()"
   ]
  },
  {
   "cell_type": "code",
   "execution_count": 15,
   "id": "c6f53419",
   "metadata": {},
   "outputs": [
    {
     "data": {
      "text/plain": [
       "['apple', 'banana', 'grape', 'raspberry']"
      ]
     },
     "execution_count": 15,
     "metadata": {},
     "output_type": "execute_result"
    }
   ],
   "source": [
    "fruits"
   ]
  },
  {
   "cell_type": "markdown",
   "id": "1219d4be",
   "metadata": {},
   "source": [
    "### When a List Is Not the Answer\n",
    "- When you have millions of floating-point values you should use an `array`.\n",
    "- If you are constantly adding and removing items from opposite ends of a list you should use a `deque`(double-ended queue.\n",
    "- If your code frequently checks whether an item is present in a collection, consider using a `set`, specially if it holds a large number if items.\n"
   ]
  },
  {
   "cell_type": "markdown",
   "id": "5ef4d3bd",
   "metadata": {},
   "source": [
    "## Chapter 3. Dictionaries and Sets\n",
    "Python dicts are highly optimized—and continue to get improvements. Hash tables are the engines behind Python’s high-performance dicts."
   ]
  },
  {
   "cell_type": "markdown",
   "id": "ebaa5bf4",
   "metadata": {},
   "source": [
    "### Dict comprenhension\n"
   ]
  },
  {
   "cell_type": "code",
   "execution_count": 2,
   "id": "2f290be1",
   "metadata": {},
   "outputs": [
    {
     "data": {
      "text/plain": [
       "{'Bangladesh': 880,\n",
       " 'Brazil': 55,\n",
       " 'China': 86,\n",
       " 'India': 91,\n",
       " 'Indonesia': 62,\n",
       " 'Japan': 81,\n",
       " 'Nigeria': 234,\n",
       " 'Pakistan': 92,\n",
       " 'Russia': 7,\n",
       " 'United States': 1}"
      ]
     },
     "execution_count": 2,
     "metadata": {},
     "output_type": "execute_result"
    }
   ],
   "source": [
    "dial_codes = [                                                  \n",
    "     (880, 'Bangladesh'),\n",
    "     (55,  'Brazil'),\n",
    "     (86,  'China'),\n",
    "     (91,  'India'),\n",
    "     (62,  'Indonesia'),\n",
    "     (81,  'Japan'),\n",
    "     (234, 'Nigeria'),\n",
    "     (92,  'Pakistan'),\n",
    "     (7,   'Russia'),\n",
    "     (1,   'United States'),\n",
    " ]\n",
    "country_dial = {country: code for code, country in dial_codes}\n",
    "\n",
    "country_dial"
   ]
  },
  {
   "cell_type": "markdown",
   "id": "30463558",
   "metadata": {},
   "source": [
    "### Merging Mappings with |\n",
    "Python 3.9 supports using | and |= to merge mappings. The | operator creates a new mapping:"
   ]
  },
  {
   "cell_type": "code",
   "execution_count": 3,
   "id": "784f545f",
   "metadata": {},
   "outputs": [
    {
     "data": {
      "text/plain": [
       "{'a': 2, 'b': 4, 'c': 6}"
      ]
     },
     "execution_count": 3,
     "metadata": {},
     "output_type": "execute_result"
    }
   ],
   "source": [
    "d1 = {'a': 1, 'b': 3}\n",
    "d2 = {'a': 2, 'b': 4, 'c': 6}\n",
    "d1 | d2"
   ]
  },
  {
   "cell_type": "markdown",
   "id": "653e92df",
   "metadata": {},
   "source": [
    "### Automatic Handling of Missing Keys"
   ]
  },
  {
   "cell_type": "markdown",
   "id": "f7dd4a52",
   "metadata": {},
   "source": [
    "You can use `setdefault` to be able to fetch and update an item.\n",
    "\n",
    "`d.setdefault(k, [default])`\n",
    "\n",
    "If `k in d`, return `d[k]`; else set `d[k] = default` and return it"
   ]
  },
  {
   "cell_type": "markdown",
   "id": "4ff88491",
   "metadata": {},
   "source": [
    "In other words, the end result of this line…\n",
    "```\n",
    "my_dict.setdefault(key, []).append(new_value)\n",
    "```\n",
    "…is the same as running…\n",
    "```\n",
    "if key not in my_dict:\n",
    "    my_dict[key] = []\n",
    "my_dict[key].append(new_value)\n",
    "```\n"
   ]
  },
  {
   "cell_type": "markdown",
   "id": "45276c2d",
   "metadata": {},
   "source": [
    "You can use `collections.defaultdict` to instantiate a key when it is called and it doesn't exist."
   ]
  },
  {
   "cell_type": "code",
   "execution_count": 4,
   "id": "e7e53e90",
   "metadata": {},
   "outputs": [
    {
     "data": {
      "text/plain": [
       "defaultdict(str, {})"
      ]
     },
     "execution_count": 4,
     "metadata": {},
     "output_type": "execute_result"
    }
   ],
   "source": [
    "import collections\n",
    "\n",
    "index = collections.defaultdict(str)\n",
    "index\n"
   ]
  },
  {
   "cell_type": "code",
   "execution_count": 5,
   "id": "e72f2449",
   "metadata": {},
   "outputs": [
    {
     "data": {
      "text/plain": [
       "defaultdict(str, {'test_key': 'test_value'})"
      ]
     },
     "execution_count": 5,
     "metadata": {},
     "output_type": "execute_result"
    }
   ],
   "source": [
    "index['test_key'] = 'test_value'\n",
    "index"
   ]
  },
  {
   "cell_type": "markdown",
   "id": "cd2c62d9",
   "metadata": {},
   "source": [
    "In an usual case the previous line will raise a `KeyError`, but as we defined the defaultdict it is able to initialize the missing key"
   ]
  },
  {
   "cell_type": "markdown",
   "id": "c05d43c9",
   "metadata": {},
   "source": [
    "### Dictionary Views"
   ]
  },
  {
   "cell_type": "markdown",
   "id": "b59f8267",
   "metadata": {},
   "source": [
    "The dict instance methods `.keys()`, `.values()`, and `.items()` return instances of classes called `dict_keys`, `dict_values`, and `dict_items`, respectively. These dictionary views are read-only projections of the internal data structures used in the dict implementation. They avoid the memory overhead of the equivalent Python 2 methods that returned lists duplicating data already in the target dict, and they also replace the old methods that returned iterators.\n",
    "\n"
   ]
  },
  {
   "cell_type": "markdown",
   "id": "faf3d26f",
   "metadata": {},
   "source": [
    "### Set Theory"
   ]
  },
  {
   "cell_type": "markdown",
   "id": "0a1a1eba",
   "metadata": {},
   "source": [
    "A set is a collection of unique objects. The set types implement many set operations as infix operators, so, given two sets a and b, `a | b` returns their union, `a & b` computes the intersection, `a - b` the difference, and `a ^ b` the symmetric difference. "
   ]
  },
  {
   "cell_type": "code",
   "execution_count": 6,
   "id": "17c72469",
   "metadata": {},
   "outputs": [],
   "source": [
    "l = ['spam', 'spam', 'eggs', 'spam', 'bacon', 'eggs']"
   ]
  },
  {
   "cell_type": "code",
   "execution_count": 7,
   "id": "865991aa",
   "metadata": {},
   "outputs": [
    {
     "data": {
      "text/plain": [
       "{'bacon', 'eggs', 'spam'}"
      ]
     },
     "execution_count": 7,
     "metadata": {},
     "output_type": "execute_result"
    }
   ],
   "source": [
    "set(l)"
   ]
  },
  {
   "cell_type": "markdown",
   "id": "515a44a9",
   "metadata": {},
   "source": [
    "Literal set syntax like `{1, 2, 3}` is both faster and more readable than calling the constructor (e.g., `set([1, 2, 3])`). "
   ]
  },
  {
   "cell_type": "code",
   "execution_count": 8,
   "id": "b3e3e856",
   "metadata": {},
   "outputs": [],
   "source": [
    "s = {1, 2, 3}"
   ]
  },
  {
   "cell_type": "code",
   "execution_count": 9,
   "id": "0f83fee7",
   "metadata": {},
   "outputs": [
    {
     "data": {
      "text/plain": [
       "set"
      ]
     },
     "execution_count": 9,
     "metadata": {},
     "output_type": "execute_result"
    }
   ],
   "source": [
    "type(s)"
   ]
  },
  {
   "cell_type": "markdown",
   "id": "e728d113",
   "metadata": {},
   "source": [
    "## Chapter 4. Unicode Text Versus Bytes\n",
    "Converting from code points to bytes is encoding; converting from bytes to code points is decoding\n"
   ]
  },
  {
   "cell_type": "code",
   "execution_count": 2,
   "id": "cde05242",
   "metadata": {},
   "outputs": [
    {
     "data": {
      "text/plain": [
       "4"
      ]
     },
     "execution_count": 2,
     "metadata": {},
     "output_type": "execute_result"
    }
   ],
   "source": [
    "s = 'café'\n",
    "len(s)"
   ]
  },
  {
   "cell_type": "code",
   "execution_count": 4,
   "id": "ffe93ce0",
   "metadata": {},
   "outputs": [
    {
     "data": {
      "text/plain": [
       "b'caf\\xc3\\xa9'"
      ]
     },
     "execution_count": 4,
     "metadata": {},
     "output_type": "execute_result"
    }
   ],
   "source": [
    "b = s.encode('utf8')\n",
    "b"
   ]
  },
  {
   "cell_type": "code",
   "execution_count": 6,
   "id": "8a39410e",
   "metadata": {},
   "outputs": [
    {
     "data": {
      "text/plain": [
       "5"
      ]
     },
     "execution_count": 6,
     "metadata": {},
     "output_type": "execute_result"
    }
   ],
   "source": [
    "len(b)"
   ]
  },
  {
   "cell_type": "code",
   "execution_count": 7,
   "id": "626efcad",
   "metadata": {},
   "outputs": [
    {
     "data": {
      "text/plain": [
       "'café'"
      ]
     },
     "execution_count": 7,
     "metadata": {},
     "output_type": "execute_result"
    }
   ],
   "source": [
    "b.decode('utf8')"
   ]
  },
  {
   "cell_type": "markdown",
   "id": "98acfe10",
   "metadata": {},
   "source": [
    "The new binary sequence types are unlike the Python 2 `str` in many regards. The first thing to know is that there are two basic built-in types for binary sequences: the immutable `bytes` type introduced in Python 3 and the mutable `bytearray`, added way back in Python 2.6"
   ]
  },
  {
   "cell_type": "markdown",
   "id": "a9234a88",
   "metadata": {},
   "source": [
    "### How to Discover the Encoding of a Byte Sequence\n",
    "How do you find the encoding of a byte sequence? Short answer: you can’t. You must be told.\n",
    "Considering that human languages also have their rules and restrictions, once you assume that a stream of bytes is human plain text, it may be possible to sniff out its encoding using heuristics and statistics."
   ]
  },
  {
   "cell_type": "markdown",
   "id": "74c4fbc6",
   "metadata": {},
   "source": [
    "### Handling Text Files\n",
    "On output, the str are encoded to bytes as late as possible. Most web frameworks work like that, and we rarely touch bytes when using them. In Django, for example, your views should output Unicode str; Django itself takes care of encoding the response to bytes, using UTF-8 by default.\n"
   ]
  },
  {
   "cell_type": "markdown",
   "id": "70ccadd3",
   "metadata": {},
   "source": [
    "## Chapter 5. Data Class Builders\n",
    "\n",
    "This chapter covers three different class builders that you may use as shortcuts to write data classes:\n",
    "- `collections.namedtuple`\n",
    "- `typing.NamedTuple`\n",
    "- `@dataclasses.dataclass`"
   ]
  },
  {
   "cell_type": "markdown",
   "id": "e220bf02",
   "metadata": {},
   "source": [
    "Below you are going to see how we usually define a class with the `__init__()` method:"
   ]
  },
  {
   "cell_type": "code",
   "execution_count": 2,
   "id": "8dc8f0c7",
   "metadata": {},
   "outputs": [],
   "source": [
    "class Coordinate:\n",
    "\n",
    "    def __init__(self, lat, lon):\n",
    "        self.lat = lat\n",
    "        self.lon = lon"
   ]
  },
  {
   "cell_type": "code",
   "execution_count": 4,
   "id": "c9e6bbd2",
   "metadata": {},
   "outputs": [
    {
     "data": {
      "text/plain": [
       "<__main__.Coordinate at 0x7fbf23b00490>"
      ]
     },
     "execution_count": 4,
     "metadata": {},
     "output_type": "execute_result"
    }
   ],
   "source": [
    "moscow = Coordinate(55.76, 37.62)\n",
    "moscow"
   ]
  },
  {
   "cell_type": "code",
   "execution_count": 14,
   "id": "3f382b1e",
   "metadata": {},
   "outputs": [
    {
     "data": {
      "text/plain": [
       "55.756"
      ]
     },
     "execution_count": 14,
     "metadata": {},
     "output_type": "execute_result"
    }
   ],
   "source": [
    "moscow.lat"
   ]
  },
  {
   "cell_type": "markdown",
   "id": "01ed4958",
   "metadata": {},
   "source": [
    "Here you can find the same definition using `namedtuple`:"
   ]
  },
  {
   "cell_type": "code",
   "execution_count": 5,
   "id": "3784382f",
   "metadata": {},
   "outputs": [],
   "source": [
    "from collections import namedtuple\n",
    "\n",
    "\n",
    "Coordinate = namedtuple('Coordinate', 'lat lon')"
   ]
  },
  {
   "cell_type": "code",
   "execution_count": 6,
   "id": "642b2552",
   "metadata": {},
   "outputs": [
    {
     "data": {
      "text/plain": [
       "Coordinate(lat=55.756, lon=37.617)"
      ]
     },
     "execution_count": 6,
     "metadata": {},
     "output_type": "execute_result"
    }
   ],
   "source": [
    "moscow = Coordinate(55.756, 37.617)\n",
    "moscow"
   ]
  },
  {
   "cell_type": "code",
   "execution_count": 15,
   "id": "ae8552e1",
   "metadata": {},
   "outputs": [
    {
     "data": {
      "text/plain": [
       "55.756"
      ]
     },
     "execution_count": 15,
     "metadata": {},
     "output_type": "execute_result"
    }
   ],
   "source": [
    "moscow.lat"
   ]
  },
  {
   "cell_type": "markdown",
   "id": "14f1fd4a",
   "metadata": {},
   "source": [
    "Here you can find the same definition using `NamedTuple`:"
   ]
  },
  {
   "cell_type": "code",
   "execution_count": 7,
   "id": "654fc7ea",
   "metadata": {},
   "outputs": [],
   "source": [
    "import typing\n",
    "\n",
    "Coordinate = typing.NamedTuple('Coordinate',\n",
    "                                [('lat', float), ('lon', float)])"
   ]
  },
  {
   "cell_type": "code",
   "execution_count": 8,
   "id": "4df50f73",
   "metadata": {},
   "outputs": [
    {
     "data": {
      "text/plain": [
       "{'lat': float, 'lon': float}"
      ]
     },
     "execution_count": 8,
     "metadata": {},
     "output_type": "execute_result"
    }
   ],
   "source": [
    "typing.get_type_hints(Coordinate)"
   ]
  },
  {
   "cell_type": "code",
   "execution_count": 16,
   "id": "c91757ea",
   "metadata": {},
   "outputs": [
    {
     "data": {
      "text/plain": [
       "Coordinate(lat=55.756, lon=37.617)"
      ]
     },
     "execution_count": 16,
     "metadata": {},
     "output_type": "execute_result"
    }
   ],
   "source": [
    "moscow = Coordinate(55.756, 37.617)\n",
    "moscow"
   ]
  },
  {
   "cell_type": "code",
   "execution_count": 17,
   "id": "6badea69",
   "metadata": {},
   "outputs": [
    {
     "data": {
      "text/plain": [
       "55.756"
      ]
     },
     "execution_count": 17,
     "metadata": {},
     "output_type": "execute_result"
    }
   ],
   "source": [
    "moscow.lat"
   ]
  },
  {
   "cell_type": "markdown",
   "id": "23ddaea4",
   "metadata": {},
   "source": [
    "Here you can find the same definition using `dataclass`:"
   ]
  },
  {
   "cell_type": "code",
   "execution_count": 11,
   "id": "cb3141d0",
   "metadata": {},
   "outputs": [],
   "source": [
    "from dataclasses import dataclass\n",
    "\n",
    "@dataclass(frozen=True)\n",
    "class Coordinate:\n",
    "    lat: float\n",
    "    lon: float\n",
    "\n",
    "    def __str__(self):\n",
    "        ns = 'N' if self.lat >= 0 else 'S'\n",
    "        we = 'E' if self.lon >= 0 else 'W'\n",
    "        return f'{abs(self.lat):.1f}°{ns}, {abs(self.lon):.1f}°{we}'"
   ]
  },
  {
   "cell_type": "code",
   "execution_count": 13,
   "id": "29199c3c",
   "metadata": {},
   "outputs": [
    {
     "name": "stdout",
     "output_type": "stream",
     "text": [
      "55.8°N, 37.6°E\n"
     ]
    }
   ],
   "source": [
    "moscow = Coordinate(55.756, 37.617)\n",
    "print(moscow)"
   ]
  },
  {
   "cell_type": "code",
   "execution_count": 18,
   "id": "08497ffd",
   "metadata": {},
   "outputs": [
    {
     "data": {
      "text/plain": [
       "55.756"
      ]
     },
     "execution_count": 18,
     "metadata": {},
     "output_type": "execute_result"
    }
   ],
   "source": [
    "moscow.lat"
   ]
  },
  {
   "cell_type": "markdown",
   "id": "e927bf71",
   "metadata": {},
   "source": [
    "### Main features\n",
    "- A key difference between these class builders is that `collections.namedtuple` and `typing.NamedTuple` build tuple subclasses, therefore the instances are immutable. By default, `@dataclass` produces mutable classes. But the decorator accepts a keyword argument frozen. When `frozen=True`, the class will raise an exception if you try to assign a value to a field after the instance is initialized.\n",
    "- Only `typing.NamedTuple` and `dataclass` support the regular `class` statement syntax, making it easier to add methods and docstrings to the class you are creating.\n",
    "- Both named tuple variants provide an instance method `(._asdict)` to construct a dict object from the fields in a data class instance. The `dataclasses` module provides a function to do it: `dataclasses.asdict`.\n",
    "\n"
   ]
  },
  {
   "cell_type": "markdown",
   "id": "4d70d780",
   "metadata": {},
   "source": [
    "### Type Hints 101\n",
    "Type hints—a.k.a. type annotations—are ways to declare the expected type of function arguments, return values, variables, and attributes. The first thing you need to know about type hints is that they are not enforced at all by the Python bytecode compiler and interpreter.\n",
    "The type hints are intended primarily to support third-party type checkers, like Mypy or the PyCharm IDE built-in type checker. These are static analysis tools: they check Python source code “at rest,” not running code."
   ]
  },
  {
   "cell_type": "code",
   "execution_count": 22,
   "id": "7b72470f",
   "metadata": {},
   "outputs": [],
   "source": [
    "import typing\n",
    "\n",
    "class Coordinate(typing.NamedTuple):\n",
    "    lat: float\n",
    "    lon: float"
   ]
  },
  {
   "cell_type": "code",
   "execution_count": 23,
   "id": "1f54cbbf",
   "metadata": {},
   "outputs": [],
   "source": [
    "trash = Coordinate('Ni!', None)"
   ]
  },
  {
   "cell_type": "code",
   "execution_count": 24,
   "id": "c3eb7f2c",
   "metadata": {},
   "outputs": [
    {
     "name": "stdout",
     "output_type": "stream",
     "text": [
      "Coordinate(lat='Ni!', lon=None)\n"
     ]
    }
   ],
   "source": [
    "print(trash)"
   ]
  },
  {
   "cell_type": "code",
   "execution_count": null,
   "id": "7611ee65",
   "metadata": {},
   "outputs": [],
   "source": []
  }
 ],
 "metadata": {
  "kernelspec": {
   "display_name": "Python 3 (ipykernel)",
   "language": "python",
   "name": "python3"
  },
  "language_info": {
   "codemirror_mode": {
    "name": "ipython",
    "version": 3
   },
   "file_extension": ".py",
   "mimetype": "text/x-python",
   "name": "python",
   "nbconvert_exporter": "python",
   "pygments_lexer": "ipython3",
   "version": "3.10.4"
  }
 },
 "nbformat": 4,
 "nbformat_minor": 5
}
